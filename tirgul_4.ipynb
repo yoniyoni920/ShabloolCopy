{
  "cells": [
    {
      "cell_type": "markdown",
      "metadata": {
        "id": "view-in-github",
        "colab_type": "text"
      },
      "source": [
        "<a href=\"https://colab.research.google.com/github/Niv0902/Shablool/blob/main/tirgul_4.ipynb\" target=\"_parent\"><img src=\"https://colab.research.google.com/assets/colab-badge.svg\" alt=\"Open In Colab\"/></a>"
      ]
    },
    {
      "cell_type": "code",
      "execution_count": null,
      "metadata": {
        "id": "_7tvoTXzoIyq"
      },
      "outputs": [],
      "source": [
        "from google.colab import drive\n",
        "drive.mount('/content/drive')"
      ]
    },
    {
      "cell_type": "code",
      "execution_count": null,
      "metadata": {
        "id": "PZsvu5RFF-D-"
      },
      "outputs": [],
      "source": [
        "import matplotlib.pyplot as plt\n",
        "import json\n",
        "\n",
        "dictionary = json.load(open('/content/drive/MyDrive/Colab Notebooks/3_1.json', 'r'))\n",
        "print(dictionary)\n",
        "xAxis = [key for key, value in dictionary.items()]\n",
        "print(xAxis)\n",
        "yAxis = [value for key, value in dictionary.items()]\n",
        "print(yAxis)\n",
        "plt.grid(True)\n",
        "\n",
        "## LINE GRAPH ##\n",
        "plt.plot(xAxis,yAxis, color='#8a5082', marker='o')\n",
        "plt.xlabel('variable')\n",
        "plt.ylabel('value')\n",
        "\n",
        "plt.show()\n",
        "\n"
      ]
    },
    {
      "cell_type": "code",
      "source": [
        "import os\n",
        "for root, dirs, files in os.walk('/content/drive'):\n",
        "    for file in files:\n",
        "        if '3_1.json' in file:\n",
        "            print(os.path.join(root, file))"
      ],
      "metadata": {
        "id": "KDagZGXlT8Bs"
      },
      "execution_count": null,
      "outputs": []
    },
    {
      "cell_type": "code",
      "execution_count": null,
      "metadata": {
        "id": "z0SJTnhfI-Ow"
      },
      "outputs": [],
      "source": [
        "# Importing the matplotlib library\n",
        "import matplotlib.pyplot as plt\n",
        "\n",
        "# Categorical data: Country names\n",
        "countries = ['USA', 'Brazil', 'Russia', 'Spain', 'UK', 'India']\n",
        "\n",
        "# Integer value interms of death counts\n",
        "totalDeaths = [112596, 37312, 5971, 27136, 40597, 7449]\n",
        "\n",
        "# Passing the parameters to the bar function, this is the main function which creates the bar plot\n",
        "plt.bar(countries, totalDeaths)\n",
        "\n",
        "# Displaying the bar plot\n",
        "plt.show()"
      ]
    },
    {
      "cell_type": "code",
      "execution_count": null,
      "metadata": {
        "id": "Oa6IOlBuF6jH"
      },
      "outputs": [],
      "source": [
        "import pandas as pd\n",
        "a = [1, 7, 2]\n",
        "myvar = pd.Series(a)\n",
        "print(myvar)\n",
        "print('-------------')\n",
        "print(myvar[0])\n"
      ]
    },
    {
      "cell_type": "markdown",
      "source": [],
      "metadata": {
        "id": "nopTN0pASWFt"
      }
    },
    {
      "cell_type": "code",
      "execution_count": null,
      "metadata": {
        "id": "QOqoWsU6Jvs4"
      },
      "outputs": [],
      "source": [
        "import pandas as pd\n",
        "calories = {\"day1\": 420, \"day2\": 380, \"day3\": 390}\n",
        "myvar = pd.Series(calories)\n",
        "print(myvar)\n",
        "print('-------------')\n",
        "print(myvar[\"day2\"])\n"
      ]
    },
    {
      "cell_type": "code",
      "execution_count": null,
      "metadata": {
        "id": "unrlyY1YKBfW"
      },
      "outputs": [],
      "source": [
        "import pandas as pd\n",
        "data = {\n",
        "\"calories\": [420, 380, 390],\n",
        "\"duration\": [50, 40, 45]\n",
        "}\n",
        "\n",
        "myvar2 = pd.DataFrame(data, index = [\"day1\", \"day2\", \"day3\"])\n",
        "print(myvar2)\n"
      ]
    },
    {
      "cell_type": "code",
      "execution_count": null,
      "metadata": {
        "id": "oC5g34s1KPg5"
      },
      "outputs": [],
      "source": [
        "import pandas as pd\n",
        "data = {\n",
        "\"calories\": [420, 380, 390],\n",
        "\"duration\": [50, 40, 45]\n",
        "}\n",
        "df = pd.DataFrame(data, index = [\"day1\", \"day2\", \"day3\"])\n",
        "print(df)\n",
        "print('----------------')\n",
        "#refer to the named index:\n",
        "print(df.loc[\"day2\"])\n"
      ]
    },
    {
      "cell_type": "code",
      "execution_count": null,
      "metadata": {
        "id": "Bm43YzSrKZkf"
      },
      "outputs": [],
      "source": [
        "import pandas\n",
        "mydataset = {\n",
        " 'cars': [\"BMW\", \"Volvo\", \"Ford\"],\n",
        " 'passings': [3, 7, 2]\n",
        "}\n",
        "myvar = pandas.DataFrame(mydataset)\n",
        "print(myvar)"
      ]
    },
    {
      "cell_type": "code",
      "execution_count": null,
      "metadata": {
        "id": "il7NprV_Kixe"
      },
      "outputs": [],
      "source": [
        "import pandas as pd\n",
        "df2 = pd.read_json('/content/drive/MyDrive/Colab Notebooks/3_2.json')\n",
        "print(df2)"
      ]
    },
    {
      "cell_type": "code",
      "execution_count": null,
      "metadata": {
        "id": "o6sIU-QaflYz"
      },
      "outputs": [],
      "source": [
        "import pandas as pd\n",
        "df2 = pd.read_json('/content/drive/MyDrive/Colab Notebooks/3_3.json')\n",
        "print(df2)\n"
      ]
    },
    {
      "cell_type": "code",
      "execution_count": null,
      "metadata": {
        "id": "0ikCAElAKv0_"
      },
      "outputs": [],
      "source": [
        "import pandas as pd\n",
        "mydataset = {\n",
        " 'cars': ['BMW','Volvo', 'Ford'],\n",
        " 'passings': [3,7,2]\n",
        "}\n",
        "df = pd.DataFrame(mydataset)\n",
        "print(df)\n",
        "print('-----------------')\n",
        "print(df['passings']>5)\n",
        "print('-----------------')\n",
        "df = pd.DataFrame(mydataset)\n",
        "print(df[df['passings']>5])\n",
        "print('-------------------')\n",
        "print((df['passings']>5) | (df['cars']=='Ford'))\n",
        "print('-------------------')\n",
        "print(df[(df['passings']>5) | (df['cars']=='Ford')])\n",
        "\n"
      ]
    },
    {
      "cell_type": "code",
      "execution_count": null,
      "metadata": {
        "id": "pGYnIUwoK1NW"
      },
      "outputs": [],
      "source": [
        "df[df['passings']>5]"
      ]
    },
    {
      "cell_type": "code",
      "execution_count": null,
      "metadata": {
        "id": "lp7QW1PHK6Hu"
      },
      "outputs": [],
      "source": [
        "df[(df['passings']>5) | (df['cars']=='Ford')]\n"
      ]
    },
    {
      "cell_type": "code",
      "execution_count": null,
      "metadata": {
        "id": "o45Wm1G8LCN7"
      },
      "outputs": [],
      "source": [
        "url = 'https://data.gov.il/api/3/action/datastore_search?resource_id=053cea08-09bc-40ec-8f7a-156f0677aff3'\n",
        "import requests\n",
        "import pandas as pd\n",
        "pd.set_option(\"display.max_columns\", None)\n",
        "response = requests.get(url)\n",
        "data = response.json()\n",
        "df = pd.DataFrame(data)\n",
        "\n",
        "data_df = pd.DataFrame(data['result']['records'])\n",
        "#יציג את 5 השורות הראשונות של הנתונים\n",
        "\n",
        "data_df.head()"
      ]
    },
    {
      "cell_type": "code",
      "execution_count": null,
      "metadata": {
        "id": "HGiunrwqo9XW"
      },
      "outputs": [],
      "source": [
        "url = 'https://data.gov.il/api/3/action/datastore_search?resource_id=053cea08-09bc-40ec-8f7a-156f0677aff3'\n",
        "\n",
        "import requests\n",
        "import pandas as pd\n",
        "from ipywidgets import widgets, VBox, Output\n",
        "from IPython.display import display\n",
        "\n",
        "pd.set_option(\"display.max_columns\", None)\n",
        "\n",
        "response = requests.get(url)\n",
        "data = response.json()\n",
        "df = pd.DataFrame(data)\n",
        "\n",
        "data_df = pd.DataFrame(data['result']['records'])\n",
        "\n",
        "data_df.head()\n",
        "\n",
        "# Import necessary libraries\n",
        "output_area = Output()\n",
        "\n",
        "# Create widgets\n",
        "tozeret_nm_dropdown = widgets.Dropdown(\n",
        "    options=[''] + sorted(data_df['tozeret_nm'].unique().tolist()),\n",
        "    description='Tozeret:',\n",
        "    style={'description_width': 'initial'}\n",
        ")\n",
        "\n",
        "kinuy_mishari_dropdown = widgets.Dropdown(\n",
        "    options=[''],\n",
        "    description='Kinuy Mishari:',\n",
        "    style={'description_width': 'initial'}\n",
        ")\n",
        "\n",
        "# Function to update the second dropdown based on the selection of the first\n",
        "def update_kinuy_mishari_options(change):\n",
        "    if change['new']:  # Check if a valid option is selected\n",
        "        filtered_values = data_df[data_df['tozeret_nm'] == change['new']]['kinuy_mishari'].unique()\n",
        "        kinuy_mishari_dropdown.options = [''] + sorted(filtered_values)\n",
        "    else:\n",
        "        kinuy_mishari_dropdown.options = ['']\n",
        "\n",
        "# Function to update the output area with the total records and unique 'ramat_gimur' values\n",
        "def update_output(change=None):\n",
        "    output_area.clear_output()\n",
        "    selected_tozeret = tozeret_nm_dropdown.value\n",
        "    selected_kinuy = kinuy_mishari_dropdown.value\n",
        "\n",
        "    if selected_tozeret and selected_kinuy:\n",
        "        filtered_df = data_df[\n",
        "            (data_df['tozeret_nm'] == selected_tozeret) &\n",
        "            (data_df['kinuy_mishari'] == selected_kinuy)\n",
        "        ]\n",
        "        total_records = len(filtered_df)\n",
        "        unique_ramat_gimur = filtered_df['ramat_gimur'].unique()\n",
        "\n",
        "        with output_area:\n",
        "            print(f\"Total Records: {total_records}\")\n",
        "            print(f\"Unique Ramat Gimur: {', '.join(unique_ramat_gimur) if len(unique_ramat_gimur) > 0 else 'None'}\")\n",
        "    else:\n",
        "        with output_area:\n",
        "            print(\"Please select valid options for both dropdowns.\")\n",
        "\n",
        "# Observe changes in both dropdowns\n",
        "tozeret_nm_dropdown.observe(update_kinuy_mishari_options, names='value')\n",
        "kinuy_mishari_dropdown.observe(update_output, names='value')\n",
        "\n",
        "# Display widgets and output area\n",
        "display(VBox([tozeret_nm_dropdown, kinuy_mishari_dropdown, output_area]))\n",
        "\n"
      ]
    },
    {
      "cell_type": "code",
      "source": [
        "import pandas as pd\n",
        "import plotly.express as px"
      ],
      "metadata": {
        "id": "wJA3_Kb2S-xx"
      },
      "execution_count": null,
      "outputs": []
    },
    {
      "cell_type": "code",
      "source": [
        "# Create a sample dataframe\n",
        "data = {\n",
        "    \"Country\": [\"Germany\", \"France\", \"Italy\", \"Spain\", \"United Kingdom\"],\n",
        "    \"GDP\": [3.8, 2.7, 1.9, 1.4, 2.1],\n",
        "    \"Population\": [83, 67, 60, 47, 66],\n",
        "    \"Vehicles Fleet\": [50, 35, 40, 30, 45]\n",
        "}\n",
        "\n",
        "df = pd.DataFrame(data)\n",
        "\n",
        "# Create a scatter matrix\n",
        "fig = px.scatter_matrix(df,\n",
        "                        dimensions=[\"GDP\", \"Population\", \"Vehicles Fleet\"],\n",
        "                        color=\"Country\",\n",
        "                        title=\"Scatter Matrix: Country GDP, Population, and Vehicles Fleet in Europe\")\n",
        "\n",
        "# Display the scatter matrix\n",
        "fig.show()"
      ],
      "metadata": {
        "id": "n0i_rI1kTBPe"
      },
      "execution_count": null,
      "outputs": []
    },
    {
      "cell_type": "code",
      "source": [
        "from plotly.offline import iplot\n",
        "import plotly.graph_objs as go\n",
        "\n",
        "data = [\n",
        "    go.Contour(\n",
        "        z=[[10, 10.625, 12.5, 15.625, 20],\n",
        "           [5.625, 6.25, 8.125, 11.25, 15.625],\n",
        "           [2.5, 3.125, 5., 8.125, 12.5],\n",
        "           [0.625, 1.25, 3.125, 6.25, 10.625],\n",
        "           [0, 0.625, 2.5, 5.625, 10]]\n",
        "    )\n",
        "]\n",
        "iplot(data)"
      ],
      "metadata": {
        "id": "R5mwHHyVTFVT"
      },
      "execution_count": null,
      "outputs": []
    },
    {
      "cell_type": "code",
      "source": [
        "import plotly.graph_objects as go\n",
        "import datetime\n",
        "import numpy as np\n",
        "np.random.seed(1)\n",
        "\n",
        "programmers = ['Alex','Nicole','Sara','Etienne','Chelsea','Jody','Marianne']\n",
        "\n",
        "base = datetime.datetime.today()\n",
        "dates = base - np.arange(180) * datetime.timedelta(days=1)\n",
        "z = np.random.poisson(size=(len(programmers), len(dates)))\n",
        "\n",
        "fig = go.Figure(data=go.Heatmap(\n",
        "        z=z,\n",
        "        x=dates,\n",
        "        y=programmers,\n",
        "        colorscale='Viridis'))\n",
        "\n",
        "fig.update_layout(\n",
        "    title=dict(text='GitHub commits per day'),\n",
        "    xaxis_nticks=36)\n",
        "\n",
        "fig.show()\n"
      ],
      "metadata": {
        "id": "YTgF8fSKTGK-"
      },
      "execution_count": null,
      "outputs": []
    },
    {
      "cell_type": "code",
      "source": [
        "import numpy as np\n",
        "from bokeh.plotting import figure, show\n",
        "from bokeh.io import output_notebook\n",
        "\n",
        "# Call once to configure Bokeh to display plots inline in the notebook.\n",
        "output_notebook()\n",
        "N = 4000\n",
        "x = np.random.random(size=N) * 100\n",
        "y = np.random.random(size=N) * 100\n",
        "radii = np.random.random(size=N) * 1.5\n",
        "colors = [\"#%02x%02x%02x\" % (r, g, 150) for r, g in zip(np.floor(50+2*x).astype(int), np.floor(30+2*y).astype(int))]\n",
        "\n",
        "p = figure()\n",
        "p.circle(x, y, radius=radii, fill_color=colors, fill_alpha=0.6, line_color=None)\n",
        "show(p)"
      ],
      "metadata": {
        "id": "fcwPuLqdTIsb"
      },
      "execution_count": null,
      "outputs": []
    },
    {
      "cell_type": "code",
      "source": [
        "# Plotly version\n",
        "import plotly.express as px\n",
        "df = pd.DataFrame({'x': range(10), 'y': [i**2 for i in range(10)]})\n",
        "fig = px.scatter(df, x='x', y='y', title='Plotly Scatter')\n",
        "fig.show()\n",
        "\n",
        "# Bokeh version\n",
        "from bokeh.plotting import figure, show\n",
        "from bokeh.io import output_notebook\n",
        "output_notebook()\n",
        "\n",
        "p = figure(title='Bokeh Scatter')\n",
        "p.scatter(df['x'], df['y'])\n",
        "show(p)"
      ],
      "metadata": {
        "id": "DMVHBuadTKl8"
      },
      "execution_count": null,
      "outputs": []
    },
    {
      "cell_type": "code",
      "source": [
        "import pandas as pd\n",
        "import ipywidgets as widgets\n",
        "from IPython.display import display\n",
        "from plotly.offline import iplot\n",
        "import plotly.graph_objs as go\n",
        "import matplotlib.pyplot as plt\n",
        "import numpy as np\n",
        "import seaborn as sns\n",
        "import plotly.express as px\n",
        "\n",
        "# Create a simple DataFrame\n",
        "data = {\n",
        "    'Name': ['Alice', 'Bob', 'Charlie'],\n",
        "    'Age': [25, 30, 35],\n",
        "    'City': ['New York', 'Los Angeles', 'Chicago']\n",
        "}\n",
        "df = pd.DataFrame(data)\n",
        "\n",
        "# Tab 1: Data Overview\n",
        "tab1_content = widgets.Output()\n",
        "with tab1_content:\n",
        "    print(\"Data Overview:\")\n",
        "    display(df.describe())  # Summary statistics\n",
        "\n",
        "# Tab 2: Raw Data\n",
        "tab2_content = widgets.Output()\n",
        "with tab2_content:\n",
        "    print(\"Raw Data:\")\n",
        "    display(df)  # Full DataFrame\n",
        "# Tab 3: Charts\n",
        "tab3_content = widgets.Output()\n",
        "with tab3_content:\n",
        "    print(\"Charts:\")\n",
        "    plt.clf()  # Clear the current figure\n",
        "    plt.figure(figsize=(10, 8))  # Increased figure size to accommodate labels\n",
        "    side_length = 10\n",
        "    data = 5 + np.random.randn(side_length, side_length)\n",
        "    data += np.arange(side_length)\n",
        "    data += np.reshape(np.arange(side_length), (side_length, 1))\n",
        "\n",
        "    # Create heatmap with labels\n",
        "    heatmap = sns.heatmap(data,\n",
        "                         cmap='viridis',\n",
        "                         annot=True,\n",
        "                         fmt='.1f',\n",
        "                         cbar_kws={'label': 'Value Intensity'})\n",
        "    plt.title('Enhanced Heatmap with Labels')\n",
        "    plt.xlabel('X Axis Position')\n",
        "    plt.ylabel('Y Axis Position')\n",
        "    plt.show()  # Add this to display the plot\n",
        "    plt.close()  # Close the figure to free memory\n",
        "\n",
        "\n",
        "# Create Tabs\n",
        "tabs = widgets.Tab(children=[tab1_content, tab2_content,tab3_content])\n",
        "tabs.set_title(0, 'Tab 1: Data Overview')\n",
        "tabs.set_title(1, 'Tab 2: Raw Data')\n",
        "tabs.set_title(2, 'Tab 3: Charts')\n",
        "\n",
        "\n",
        "\n",
        "# Display Tabs\n",
        "display(tabs)\n"
      ],
      "metadata": {
        "id": "QcqoW4mPTMaI"
      },
      "execution_count": null,
      "outputs": []
    },
    {
      "cell_type": "code",
      "source": [
        "import plotly.express as px\n",
        "df = px.data.gapminder()\n",
        "\n",
        "fig = px.scatter(df.query(\"year==2007\"), x=\"gdpPercap\", y=\"lifeExp\",\n",
        "\t         size=\"pop\", color=\"continent\",\n",
        "                 hover_name=\"country\", log_x=True, size_max=60)\n",
        "fig.show()"
      ],
      "metadata": {
        "id": "T-kOzFaSTOl5"
      },
      "execution_count": null,
      "outputs": []
    },
    {
      "cell_type": "code",
      "source": [
        "import plotly.graph_objects as go\n",
        "\n",
        "import pandas as pd\n",
        "\n",
        "df1 = pd.read_csv('https://raw.githubusercontent.com/plotly/datasets/718417069ead87650b90472464c7565dc8c2cb1c/sunburst-coffee-flavors-complete.csv')\n",
        "df2 = pd.read_csv('https://raw.githubusercontent.com/plotly/datasets/718417069ead87650b90472464c7565dc8c2cb1c/coffee-flavors.csv')\n",
        "\n",
        "fig = go.Figure()\n",
        "\n",
        "fig.add_trace(go.Sunburst(\n",
        "    ids=df1.ids,\n",
        "    labels=df1.labels,\n",
        "    parents=df1.parents,\n",
        "    domain=dict(column=0)\n",
        "))\n",
        "\n",
        "fig.add_trace(go.Sunburst(\n",
        "    ids=df2.ids,\n",
        "    labels=df2.labels,\n",
        "    parents=df2.parents,\n",
        "    domain=dict(column=1),\n",
        "    maxdepth=2\n",
        "))\n",
        "\n",
        "fig.update_layout(\n",
        "    grid= dict(columns=2, rows=1),\n",
        "    margin = dict(t=0, l=0, r=0, b=0)\n",
        ")\n",
        "\n",
        "fig.show()"
      ],
      "metadata": {
        "id": "XG4KAQGeTPu7"
      },
      "execution_count": null,
      "outputs": []
    },
    {
      "cell_type": "code",
      "source": [],
      "metadata": {
        "id": "E5DWqnEdTRM4"
      },
      "execution_count": null,
      "outputs": []
    }
  ],
  "metadata": {
    "colab": {
      "provenance": [],
      "include_colab_link": true
    },
    "kernelspec": {
      "display_name": "Python 3",
      "name": "python3"
    },
    "language_info": {
      "name": "python"
    }
  },
  "nbformat": 4,
  "nbformat_minor": 0
}