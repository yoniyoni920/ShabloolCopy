{
  "nbformat": 4,
  "nbformat_minor": 0,
  "metadata": {
    "colab": {
      "provenance": [],
      "authorship_tag": "ABX9TyOZY6xk/CblmH08iRRiXVpH",
      "include_colab_link": true
    },
    "kernelspec": {
      "name": "python3",
      "display_name": "Python 3"
    },
    "language_info": {
      "name": "python"
    }
  },
  "cells": [
    {
      "cell_type": "markdown",
      "metadata": {
        "id": "view-in-github",
        "colab_type": "text"
      },
      "source": [
        "<a href=\"https://colab.research.google.com/github/Niv0902/Shablool/blob/main/tirgul_2.ipynb\" target=\"_parent\"><img src=\"https://colab.research.google.com/assets/colab-badge.svg\" alt=\"Open In Colab\"/></a>"
      ]
    },
    {
      "cell_type": "code",
      "execution_count": null,
      "metadata": {
        "colab": {
          "base_uri": "https://localhost:8080/"
        },
        "id": "SB5jQHhmyXrs",
        "outputId": "a2364aec-e237-4bc5-badf-69202a16a2db"
      },
      "outputs": [
        {
          "output_type": "stream",
          "name": "stdout",
          "text": [
            "Drive already mounted at /content/drive; to attempt to forcibly remount, call drive.mount(\"/content/drive\", force_remount=True).\n"
          ]
        }
      ],
      "source": [
        "from google.colab import drive\n",
        "drive.mount('/content/drive')\n"
      ]
    },
    {
      "cell_type": "code",
      "source": [
        "import os\n",
        "os.path.exists('/content/drive/My Drive')"
      ],
      "metadata": {
        "colab": {
          "base_uri": "https://localhost:8080/"
        },
        "id": "Hdhai5A7zZ0Y",
        "outputId": "3fb7955b-6d09-4b80-8e1d-3e96151e20c9"
      },
      "execution_count": null,
      "outputs": [
        {
          "output_type": "execute_result",
          "data": {
            "text/plain": [
              "True"
            ]
          },
          "metadata": {},
          "execution_count": 10
        }
      ]
    },
    {
      "cell_type": "code",
      "source": [
        "!ls \"/content/drive/My Drive/Colab Notebooks\""
      ],
      "metadata": {
        "colab": {
          "base_uri": "https://localhost:8080/"
        },
        "id": "TjZkU3fZWwA5",
        "outputId": "fa587432-1a17-40d0-a864-5111d68f4058"
      },
      "execution_count": null,
      "outputs": [
        {
          "output_type": "stream",
          "name": "stdout",
          "text": [
            "MyFirstCollabNoteBookBraude.ipynb  tirgul_2.ipynb\n"
          ]
        }
      ]
    },
    {
      "cell_type": "code",
      "source": [
        "import json\n",
        "print(\"Dictionary: \", json.dumps({\"name\": \"John\", \"age\": 30}))\n",
        "print(\"List:       \", json.dumps([\"apple\", \"bananas\"]))\n",
        "print(\"Tuple:      \", json.dumps((\"apple\", \"bananas\")))\n",
        "print(\"String:     \", json.dumps(\"hello\"))\n",
        "print(\"Integer:    \", json.dumps(42))\n",
        "print(\"Float:      \", json.dumps(31.76))\n",
        "print(\"True:       \", json.dumps(True))\n",
        "print(\"False:      \", json.dumps(False))\n",
        "print(\"None:       \", json.dumps(None))"
      ],
      "metadata": {
        "colab": {
          "base_uri": "https://localhost:8080/"
        },
        "id": "0fVGLYapzx5U",
        "outputId": "0bbca172-cf27-45ef-b454-fe7bb7012348"
      },
      "execution_count": null,
      "outputs": [
        {
          "output_type": "stream",
          "name": "stdout",
          "text": [
            "Dictionary:  {\"name\": \"John\", \"age\": 30}\n",
            "List:        [\"apple\", \"bananas\"]\n",
            "Tuple:       [\"apple\", \"bananas\"]\n",
            "String:      \"hello\"\n",
            "Integer:     42\n",
            "Float:       31.76\n",
            "True:        true\n",
            "False:       false\n",
            "None:        null\n"
          ]
        }
      ]
    },
    {
      "cell_type": "code",
      "source": [
        "import json\n",
        "json_data = '{\"acronym\": \"BLD\", \"name\": \"Boulder Colorado\", \\\n",
        "              \"latitude\": 40.00, \"longitude\": -105.25}'\n",
        "python_obj = json.loads(json_data)\n",
        "print(\"Name:     \", python_obj[\"name\"])\n",
        "print(\"Acronym:  \", python_obj[\"acronym\"])\n",
        "print(\"Latitude: \", python_obj[\"latitude\"])\n",
        "print(\"Latitude: \", python_obj[\"longitude\"])\n",
        "\n",
        "print()\n",
        "print(json.dumps(python_obj, sort_keys=True, indent=4))"
      ],
      "metadata": {
        "colab": {
          "base_uri": "https://localhost:8080/"
        },
        "id": "PLUuFyi52x29",
        "outputId": "029e548e-8718-4169-ac9a-40a652558aab"
      },
      "execution_count": null,
      "outputs": [
        {
          "output_type": "stream",
          "name": "stdout",
          "text": [
            "Name:      Boulder Colorado\n",
            "Acronym:   BLD\n",
            "Latitude:  40.0\n",
            "Latitude:  -105.25\n",
            "\n",
            "{\n",
            "    \"acronym\": \"BLD\",\n",
            "    \"latitude\": 40.0,\n",
            "    \"longitude\": -105.25,\n",
            "    \"name\": \"Boulder Colorado\"\n",
            "}\n"
          ]
        }
      ]
    },
    {
      "cell_type": "code",
      "source": [
        "import json\n",
        "array = '{\"drinks\": [\"coffee\", \"tea\", \"water\"]}'\n",
        "data = json.loads(array)\n",
        "\n",
        "print(json.dumps(data, sort_keys=True, indent=4))\n",
        "print()\n",
        "for element in data[\"drinks\"]:\n",
        "    print(element)\n"
      ],
      "metadata": {
        "colab": {
          "base_uri": "https://localhost:8080/"
        },
        "id": "QmwXMzW631Rl",
        "outputId": "e694d183-08af-4543-e8ce-2eb03e0377fa"
      },
      "execution_count": null,
      "outputs": [
        {
          "output_type": "stream",
          "name": "stdout",
          "text": [
            "{\n",
            "    \"drinks\": [\n",
            "        \"coffee\",\n",
            "        \"tea\",\n",
            "        \"water\"\n",
            "    ]\n",
            "}\n",
            "\n",
            "coffee\n",
            "tea\n",
            "water\n"
          ]
        }
      ]
    },
    {
      "cell_type": "code",
      "source": [
        "import json\n",
        "json_string = \"\"\"\n",
        "{\n",
        "    \"researcher\": {\n",
        "        \"name\": \"Ford Prefect\",\n",
        "        \"species\": \"Betelgeusian\",\n",
        "        \"relatives\": [\n",
        "            {\n",
        "                \"name\": \"Zaphod Beeblebrox\",\n",
        "                \"species\": \"Betelgeusian\"\n",
        "            }\n",
        "        ]\n",
        "    }\n",
        "}\n",
        "\"\"\"\n",
        "data = json.loads(json_string)\n",
        "print(data)\n",
        "print('\\n')\n",
        "print(json.dumps(data, sort_keys=True, indent=4))\n",
        "\n"
      ],
      "metadata": {
        "colab": {
          "base_uri": "https://localhost:8080/"
        },
        "id": "CzSfPNKt5Zk6",
        "outputId": "e83fc8d9-c6cc-4528-9c97-69f22f8c9fd5"
      },
      "execution_count": null,
      "outputs": [
        {
          "output_type": "stream",
          "name": "stdout",
          "text": [
            "{'researcher': {'name': 'Ford Prefect', 'species': 'Betelgeusian', 'relatives': [{'name': 'Zaphod Beeblebrox', 'species': 'Betelgeusian'}]}}\n",
            "\n",
            "\n",
            "{\n",
            "    \"researcher\": {\n",
            "        \"name\": \"Ford Prefect\",\n",
            "        \"relatives\": [\n",
            "            {\n",
            "                \"name\": \"Zaphod Beeblebrox\",\n",
            "                \"species\": \"Betelgeusian\"\n",
            "            }\n",
            "        ],\n",
            "        \"species\": \"Betelgeusian\"\n",
            "    }\n",
            "}\n"
          ]
        }
      ]
    },
    {
      "cell_type": "code",
      "source": [
        "import json\n",
        "\n",
        "x = {\n",
        "  \"name\": \"John\",\n",
        "  \"age\": 30,\n",
        "  \"married\": True,\n",
        "  \"divorced\": False,\n",
        "  \"children\": (\"Ann\",\"Billy\"),\n",
        "  \"pets\": None,\n",
        "  \"cars\": [\n",
        "    {\"model\": \"BMW 230\", \"mpg\": 27.5},\n",
        "    {\"model\": \"Ford Edge\", \"mpg\": 24.1}\n",
        "  ]\n",
        "}\n",
        "\n",
        "with open('/content/drive/My Drive/s2.json', \"w\") as fid:\n",
        "     json.dump(x, fid)"
      ],
      "metadata": {
        "id": "cChRgrEA8Pf9"
      },
      "execution_count": null,
      "outputs": []
    },
    {
      "cell_type": "code",
      "source": [
        "with open('/content/drive/My Drive/s2.json', \"r\") as fid:\n",
        "     z = json.load(fid)\n",
        "\n",
        "print(z)\n",
        "for key in z:\n",
        "    print(key+\":\\t\", z[key])\n"
      ],
      "metadata": {
        "colab": {
          "base_uri": "https://localhost:8080/"
        },
        "id": "3Ccpcsji8jCk",
        "outputId": "2f6d34de-c756-43d1-8818-e5a44325167d"
      },
      "execution_count": null,
      "outputs": [
        {
          "output_type": "stream",
          "name": "stdout",
          "text": [
            "{'name': 'John', 'age': 30, 'married': True, 'divorced': False, 'children': ['Ann', 'Billy'], 'pets': None, 'cars': [{'model': 'BMW 230', 'mpg': 27.5}, {'model': 'Ford Edge', 'mpg': 24.1}]}\n",
            "name:\t John\n",
            "age:\t 30\n",
            "married:\t True\n",
            "divorced:\t False\n",
            "children:\t ['Ann', 'Billy']\n",
            "pets:\t None\n",
            "cars:\t [{'model': 'BMW 230', 'mpg': 27.5}, {'model': 'Ford Edge', 'mpg': 24.1}]\n"
          ]
        }
      ]
    },
    {
      "cell_type": "code",
      "source": [
        "%%writefile apod.json\n",
        "{\n",
        "    \"media_type\": \"image\",\n",
        "    \"copyright\": \"Yin Hao\",\n",
        "    \"date\": \"2018-10-30\",\n",
        "    \"url\": \"https://apod.nasa.gov/apod/image/1810/Orionids_Hao_960.jpg\",\n",
        "    \"explanation\": \"Meteors have been shooting out from the constellation of Orion. This was expected, as October is the time of year for the Orionids Meteor Shower.  Pictured here, over two dozen meteors were caught in successively added exposures last October over Wulan Hada volcano in Inner Mongolia, China. The featured image shows multiple meteor streaks that can all be connected to a single small region on the sky called the radiant, here visible just above and to the left of the belt of Orion, The Orionids meteors started as sand sized bits expelled from Comet Halley during one of its trips to the inner Solar System. Comet Halley is actually responsible for two known meteor showers, the other known as the Eta Aquarids and visible every May. An Orionids image featured on APOD one year ago today from the same location shows the same car. Next month, the Leonids Meteor Shower from Comet Tempel-Tuttle should also result in some bright meteor streaks. Follow APOD on: Facebook, Instagram, Reddit, or Twitter\",\n",
        "    \"hdurl\": \"https://apod.nasa.gov/apod/image/1810/Orionids_Hao_2324.jpg\",\n",
        "    \"title\": \"Orionids Meteors over Inner Mongolia\",\n",
        "    \"service_version\": \"v1\"\n",
        "}\n"
      ],
      "metadata": {
        "colab": {
          "base_uri": "https://localhost:8080/"
        },
        "id": "nvX0oPNl89WM",
        "outputId": "b9b39a77-7e80-4c77-b716-7816d6ec5482"
      },
      "execution_count": null,
      "outputs": [
        {
          "output_type": "stream",
          "name": "stdout",
          "text": [
            "Writing apod.json\n"
          ]
        }
      ]
    },
    {
      "cell_type": "code",
      "source": [
        "# Read the file\n",
        "with open(\"apod.json\", \"r\") as f:\n",
        "    json_text = f.read()\n",
        "# Decode the JSON string into a Python dictionary.\n",
        "apod_dict = json.loads(json_text)\n",
        "print(apod_dict['explanation'])\n",
        "# Encode the Python dictionary into a JSON string.\n",
        "new_json_string = json.dumps(apod_dict, indent=6)\n",
        "print(new_json_string)\n",
        "new_json_string = json.dumps(apod_dict, indent=6, sort_keys=True)\n",
        "print(new_json_string)\n"
      ],
      "metadata": {
        "colab": {
          "base_uri": "https://localhost:8080/"
        },
        "id": "kAxsfCm496vK",
        "outputId": "46fadb1c-6d49-4e18-8504-2e2de3a33ac6"
      },
      "execution_count": null,
      "outputs": [
        {
          "output_type": "stream",
          "name": "stdout",
          "text": [
            "Meteors have been shooting out from the constellation of Orion. This was expected, as October is the time of year for the Orionids Meteor Shower.  Pictured here, over two dozen meteors were caught in successively added exposures last October over Wulan Hada volcano in Inner Mongolia, China. The featured image shows multiple meteor streaks that can all be connected to a single small region on the sky called the radiant, here visible just above and to the left of the belt of Orion, The Orionids meteors started as sand sized bits expelled from Comet Halley during one of its trips to the inner Solar System. Comet Halley is actually responsible for two known meteor showers, the other known as the Eta Aquarids and visible every May. An Orionids image featured on APOD one year ago today from the same location shows the same car. Next month, the Leonids Meteor Shower from Comet Tempel-Tuttle should also result in some bright meteor streaks. Follow APOD on: Facebook, Instagram, Reddit, or Twitter\n",
            "{\n",
            "      \"media_type\": \"image\",\n",
            "      \"copyright\": \"Yin Hao\",\n",
            "      \"date\": \"2018-10-30\",\n",
            "      \"url\": \"https://apod.nasa.gov/apod/image/1810/Orionids_Hao_960.jpg\",\n",
            "      \"explanation\": \"Meteors have been shooting out from the constellation of Orion. This was expected, as October is the time of year for the Orionids Meteor Shower.  Pictured here, over two dozen meteors were caught in successively added exposures last October over Wulan Hada volcano in Inner Mongolia, China. The featured image shows multiple meteor streaks that can all be connected to a single small region on the sky called the radiant, here visible just above and to the left of the belt of Orion, The Orionids meteors started as sand sized bits expelled from Comet Halley during one of its trips to the inner Solar System. Comet Halley is actually responsible for two known meteor showers, the other known as the Eta Aquarids and visible every May. An Orionids image featured on APOD one year ago today from the same location shows the same car. Next month, the Leonids Meteor Shower from Comet Tempel-Tuttle should also result in some bright meteor streaks. Follow APOD on: Facebook, Instagram, Reddit, or Twitter\",\n",
            "      \"hdurl\": \"https://apod.nasa.gov/apod/image/1810/Orionids_Hao_2324.jpg\",\n",
            "      \"title\": \"Orionids Meteors over Inner Mongolia\",\n",
            "      \"service_version\": \"v1\"\n",
            "}\n",
            "{\n",
            "      \"copyright\": \"Yin Hao\",\n",
            "      \"date\": \"2018-10-30\",\n",
            "      \"explanation\": \"Meteors have been shooting out from the constellation of Orion. This was expected, as October is the time of year for the Orionids Meteor Shower.  Pictured here, over two dozen meteors were caught in successively added exposures last October over Wulan Hada volcano in Inner Mongolia, China. The featured image shows multiple meteor streaks that can all be connected to a single small region on the sky called the radiant, here visible just above and to the left of the belt of Orion, The Orionids meteors started as sand sized bits expelled from Comet Halley during one of its trips to the inner Solar System. Comet Halley is actually responsible for two known meteor showers, the other known as the Eta Aquarids and visible every May. An Orionids image featured on APOD one year ago today from the same location shows the same car. Next month, the Leonids Meteor Shower from Comet Tempel-Tuttle should also result in some bright meteor streaks. Follow APOD on: Facebook, Instagram, Reddit, or Twitter\",\n",
            "      \"hdurl\": \"https://apod.nasa.gov/apod/image/1810/Orionids_Hao_2324.jpg\",\n",
            "      \"media_type\": \"image\",\n",
            "      \"service_version\": \"v1\",\n",
            "      \"title\": \"Orionids Meteors over Inner Mongolia\",\n",
            "      \"url\": \"https://apod.nasa.gov/apod/image/1810/Orionids_Hao_960.jpg\"\n",
            "}\n"
          ]
        }
      ]
    },
    {
      "cell_type": "code",
      "source": [
        "import json\n",
        "\n",
        "jsonData = '{\"ID\":\"123\", \"Name\": \"Hamza\"}'\n",
        "\n",
        "data = json.loads(jsonData)\n",
        "\n",
        "newData = {\"DOB\": \"22-10-2001\"}\n",
        "\n",
        "data.update(newData)\n",
        "\n",
        "print(data)\n"
      ],
      "metadata": {
        "colab": {
          "base_uri": "https://localhost:8080/"
        },
        "id": "TzHR189D97tK",
        "outputId": "ab282c84-7afd-489b-8998-d521a4e8a251"
      },
      "execution_count": null,
      "outputs": [
        {
          "output_type": "stream",
          "name": "stdout",
          "text": [
            "{'ID': '123', 'Name': 'Hamza', 'DOB': '22-10-2001'}\n"
          ]
        }
      ]
    },
    {
      "cell_type": "code",
      "source": [
        "import json\n",
        "\n",
        "students = [\n",
        "    {\"id\": 1, \"name\": \"Ault\", \"class\": 8, \"email\": \"ault@pynative.com\"},\n",
        "    {\"id\": 2, \"name\": \"john\", \"class\": 8, \"email\": \"jhon@pynative.com\"},\n",
        "    {\"id\": 3, \"name\": \"josh\", \"class\": 8, \"email\": \"josh@pynative.com\"},\n",
        "    {\"id\": 4, \"name\": \"emma\", \"class\": 8, \"email\": \"emma@pynative.com\"}\n",
        "]\n",
        "\n",
        "path = \"/content/drive/My Drive/students1.txt\"\n",
        "\n",
        "with open(path, \"w\") as f:\n",
        "    for student in students:\n",
        "        f.write(json.dumps(student) + \"\\n\")\n"
      ],
      "metadata": {
        "id": "GsXHba52-5Pb"
      },
      "execution_count": null,
      "outputs": []
    }
  ]
}