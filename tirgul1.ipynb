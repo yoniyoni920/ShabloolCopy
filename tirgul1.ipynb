{
  "nbformat": 4,
  "nbformat_minor": 0,
  "metadata": {
    "colab": {
      "provenance": [],
      "authorship_tag": "ABX9TyMXC3vlEAhA3vR/BG89QTgA",
      "include_colab_link": true
    },
    "kernelspec": {
      "name": "python3",
      "display_name": "Python 3"
    },
    "language_info": {
      "name": "python"
    }
  },
  "cells": [
    {
      "cell_type": "markdown",
      "metadata": {
        "id": "view-in-github",
        "colab_type": "text"
      },
      "source": [
        "<a href=\"https://colab.research.google.com/github/Niv0902/Shablool/blob/main/tirgul1.ipynb\" target=\"_parent\"><img src=\"https://colab.research.google.com/assets/colab-badge.svg\" alt=\"Open In Colab\"/></a>"
      ]
    },
    {
      "cell_type": "code",
      "execution_count": null,
      "metadata": {
        "id": "ndjb_R_GUjfG"
      },
      "outputs": [],
      "source": [
        "import time\n",
        "print(time.ctime())\n",
        "\n"
      ]
    },
    {
      "cell_type": "code",
      "source": [
        "time.sleep(5)\n",
        "print (time.ctime())"
      ],
      "metadata": {
        "id": "5Lal3OULUnU8"
      },
      "execution_count": null,
      "outputs": []
    },
    {
      "cell_type": "code",
      "source": [
        "!pip install numpy"
      ],
      "metadata": {
        "id": "rQ1OcHAnU6vp"
      },
      "execution_count": null,
      "outputs": []
    },
    {
      "cell_type": "code",
      "source": [
        "from google.colab import drive\n",
        "drive.mount('/content/drive')\n"
      ],
      "metadata": {
        "id": "7eykco02VhWy"
      },
      "execution_count": null,
      "outputs": []
    },
    {
      "cell_type": "code",
      "source": [
        "!ls \"/content/drive/My Drive/Colab Notebooks\""
      ],
      "metadata": {
        "id": "TjZkU3fZWwA5"
      },
      "execution_count": null,
      "outputs": []
    },
    {
      "cell_type": "code",
      "source": [
        "import numpy as np\n",
        "from matplotlib import pyplot as plt\n",
        "\n",
        "y = np.random.randn(100)\n",
        "x = [x for x in range(len(y))]\n",
        "\n",
        "plt.plot(x, y, '-')\n",
        "plt.fill_between(x, y, 200, where = (y > 195), facecolor='g', alpha=0.6)\n",
        "\n",
        "plt.title(\"Sample Plot\")\n",
        "plt.show()\n"
      ],
      "metadata": {
        "id": "T0s44hxoW_nR"
      },
      "execution_count": null,
      "outputs": []
    },
    {
      "cell_type": "code",
      "source": [
        "# @title Default title text\n",
        "sleeptime = 2 # @param {\"type\":\"integer\"}\n"
      ],
      "metadata": {
        "id": "pbig5zMLZuUn"
      },
      "execution_count": null,
      "outputs": []
    },
    {
      "cell_type": "code",
      "source": [
        "import time\n",
        "print(time.ctime())\n",
        "time.sleep(sleeptime)\n",
        "print (time.ctime())"
      ],
      "metadata": {
        "id": "66521PFSaVu1"
      },
      "execution_count": null,
      "outputs": []
    },
    {
      "cell_type": "code",
      "source": [
        "#@title Default title text\n",
        "%%html\n",
        "<style>\n",
        "body {\n",
        "  background-color: #f2bcca;\n",
        "}\n",
        "</style>\n",
        "color = 'blue' #@param [\"red\", \"green\", \"blue\"] print(color)\n",
        "<svg xmlns=\"https://www.w3.org/2000/svg\" viewBox=\"0 0 600 400\" width=\"400\" height=\"400\">\n",
        "   <rect x=\"10\" y=\"00\" width=\"300\" height=\"100\" rx=\"0\" style=\"fill:orange; stroke:black; fill-opacity:1.0\" />\n",
        "   <rect x=\"10\" y=\"100\" width=\"300\" height=\"100\" rx=\"0\" style=\"fill:white; stroke:black; fill-opacity:1.0;\" />\n",
        "   <rect x=\"10\" y=\"200\" width=\"300\" height=\"100\" rx=\"0\" style=\"fill:green; stroke:black; fill-opacity:1.0;\" />\n",
        "</svg>\n",
        "\n"
      ],
      "metadata": {
        "id": "an3ao9Vpa1iq"
      },
      "execution_count": null,
      "outputs": []
    },
    {
      "cell_type": "code",
      "source": [
        "name = \"Cloud course\" #@param {type:\"string\"} print(name)\n",
        "#@title Date fields\n",
        "date_input = '2025-04-29' #@param {type:\"date\"}\n",
        "print(date_input)\n",
        "#@title Default title text"
      ],
      "metadata": {
        "id": "9gpN2_3Iez7t"
      },
      "execution_count": null,
      "outputs": []
    },
    {
      "cell_type": "markdown",
      "source": [],
      "metadata": {
        "id": "ClexTQdbdcJl"
      }
    },
    {
      "cell_type": "code",
      "source": [
        "#@title Color selection\n",
        "top_color = \"green\"  #@param [\"orange\", \"red\", \"green\", \"blue\", \"yellow\"]\n",
        "bottom_color = \"yellow\"  #@param [\"orange\", \"red\", \"green\", \"blue\", \"yellow\"]"
      ],
      "metadata": {
        "cellView": "form",
        "id": "MneMIgl7f8vd"
      },
      "execution_count": null,
      "outputs": []
    },
    {
      "cell_type": "code",
      "source": [
        "from IPython.display import display, HTML\n",
        "\n",
        "svg_code = f\"\"\"\n",
        "<svg xmlns=\"http://www.w3.org/2000/svg\" viewBox=\"0 0 600 300\" width=\"400\" height=\"300\">\n",
        "   <rect x=\"10\" y=\"00\" width=\"300\" height=\"100\" rx=\"0\" style=\"fill:{top_color}; stroke:black; fill-opacity:1.0\" />\n",
        "   <rect x=\"10\" y=\"100\" width=\"300\" height=\"100\" rx=\"0\" style=\"fill:{bottom_color}; stroke:black; fill-opacity:1.0;\" />\n",
        "</svg>\n",
        "\"\"\"\n",
        "\n",
        "display(HTML(svg_code))"
      ],
      "metadata": {
        "id": "O5gSmfgof--g"
      },
      "execution_count": null,
      "outputs": []
    },
    {
      "cell_type": "code",
      "source": [
        "cd /content/drive/MyDrive"
      ],
      "metadata": {
        "id": "ux-HTMnxro-P"
      },
      "execution_count": null,
      "outputs": []
    },
    {
      "cell_type": "code",
      "source": [
        "with open('1.txt', 'r') as file:\n",
        "    contents = file.read()\n",
        "    print(contents)\n",
        "file.close()"
      ],
      "metadata": {
        "id": "1m4bn3lJrrsy"
      },
      "execution_count": null,
      "outputs": []
    },
    {
      "cell_type": "code",
      "source": [
        "with open('/content/drive/My Drive/example.txt', 'w') as file:\n",
        "    file.write('This is some example text.')\n",
        "file.close()\n"
      ],
      "metadata": {
        "id": "jc9t9-ThrxDg"
      },
      "execution_count": null,
      "outputs": []
    },
    {
      "cell_type": "code",
      "source": [
        "with open('/content/drive/My Drive/example.txt', 'a') as file:\n",
        "    file.write('This is some moreeeee example text.')\n",
        "file.close()\n"
      ],
      "metadata": {
        "id": "oQ3Tpnzls7uu"
      },
      "execution_count": null,
      "outputs": []
    },
    {
      "cell_type": "code",
      "source": [
        "import ipywidgets as widgets\n",
        "from IPython.display import display\n",
        "button = widgets.Button(description=\"Click Me!\")\n",
        "output = widgets.Output()\n",
        "\n",
        "def on_button_clicked(b):\n",
        "  # Display the message within the output widget.\n",
        "  with output:\n",
        "    with open('/content/drive/My Drive/1.txt', 'r') as file:\n",
        "      contents = file.read()\n",
        "      print(contents)\n",
        "\n",
        "button.on_click(on_button_clicked)\n",
        "display(button, output)\n"
      ],
      "metadata": {
        "id": "BzafqqNGtsaT"
      },
      "execution_count": null,
      "outputs": []
    },
    {
      "cell_type": "code",
      "source": [
        "\n",
        "import ipywidgets as widgets\n",
        "slider = widgets.IntSlider(value=5, max=10)\n",
        "display(slider)\n"
      ],
      "metadata": {
        "id": "Ktzp-1OEtvKT"
      },
      "execution_count": null,
      "outputs": []
    },
    {
      "cell_type": "code",
      "source": [
        "from typing import Text\n",
        "\n",
        "w = widgets.Dropdown(\n",
        "    options=['Addition', 'Multiplication', 'Subtraction', 'Division'],\n",
        "    value='Addition',\n",
        "    description='Task:',\n",
        ")\n",
        "txt1=widgets.Text()\n",
        "txt1.value=\"1\"\n",
        "display(txt1)\n",
        "\n",
        "def on_change(change):\n",
        "    if change['type'] == 'change' and change['name'] == 'value':\n",
        "        print(\"changed to %s\" % change['new'])\n",
        "    txt1.value=w.value\n",
        "\n",
        "w.observe(on_change)\n",
        "\n"
      ],
      "metadata": {
        "id": "_bNdI8e2uDvK"
      },
      "execution_count": null,
      "outputs": []
    }
  ]
}