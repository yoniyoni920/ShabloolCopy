{
  "cells": [
    {
      "cell_type": "markdown",
      "metadata": {
        "id": "view-in-github",
        "colab_type": "text"
      },
      "source": [
        "<a href=\"https://colab.research.google.com/github/Niv0902/Shablool/blob/main/tirgul_3.ipynb\" target=\"_parent\"><img src=\"https://colab.research.google.com/assets/colab-badge.svg\" alt=\"Open In Colab\"/></a>"
      ]
    },
    {
      "cell_type": "code",
      "execution_count": null,
      "metadata": {
        "colab": {
          "background_save": true,
          "base_uri": "https://localhost:8080/"
        },
        "id": "cHpXVkntTORS",
        "outputId": "543fee96-ff04-4afb-c940-9fbab18a807c"
      },
      "outputs": [
        {
          "name": "stderr",
          "output_type": "stream",
          "text": [
            "<ipython-input-2-28efcc41caa6>:23: DeprecationWarning: Callback API version 1 is deprecated, update to latest version\n",
            "  client = mqtt.Client()\n"
          ]
        },
        {
          "name": "stdout",
          "output_type": "stream",
          "text": [
            "Subscribed to MQTT topic: braude/D106/jdata\n"
          ]
        }
      ],
      "source": [
        "import paho.mqtt.client as mqtt\n",
        "import json\n",
        "\n",
        "# Callback function for when a message is received\n",
        "def on_message(client, userdata, msg):\n",
        "    try:\n",
        "        data = json.loads(msg.payload.decode())\n",
        "\n",
        "        # Extract values with lowercase field names\n",
        "        temperature = data.get(\"Temperature\", \"N/A\")\n",
        "        humidity = data.get(\"Humidity\", \"N/A\")\n",
        "        pressure = data.get(\"Pressure\", \"N/A\")\n",
        "\n",
        "        print(f\"Temperature: {temperature}°C, Humidity: {humidity}%, Pressure: {pressure} hPa\")\n",
        "\n",
        "    except json.JSONDecodeError:\n",
        "        print(\"Received invalid JSON data\")\n",
        "\n",
        "# MQTT setup\n",
        "broker = \"test.mosquitto.org\"\n",
        "topic = \"braude/D106/jdata\"\n",
        "\n",
        "client = mqtt.Client()\n",
        "client.on_message = on_message\n",
        "\n",
        "client.connect(broker, 1883, 60)\n",
        "client.subscribe(topic)\n",
        "\n",
        "print(f\"Subscribed to MQTT topic: {topic}\")\n",
        "client.loop_forever()\n"
      ]
    },
    {
      "cell_type": "code",
      "execution_count": null,
      "metadata": {
        "colab": {
          "base_uri": "https://localhost:8080/"
        },
        "id": "LFza9HrbTJlh",
        "outputId": "e656f80b-1149-4835-ff7b-5c18b9e01ce1"
      },
      "outputs": [
        {
          "name": "stdout",
          "output_type": "stream",
          "text": [
            "Collecting paho-mqtt\n",
            "  Downloading paho_mqtt-2.1.0-py3-none-any.whl.metadata (23 kB)\n",
            "Downloading paho_mqtt-2.1.0-py3-none-any.whl (67 kB)\n",
            "\u001b[?25l   \u001b[90m━━━━━━━━━━━━━━━━━━━━━━━━━━━━━━━━━━━━━━━━\u001b[0m \u001b[32m0.0/67.2 kB\u001b[0m \u001b[31m?\u001b[0m eta \u001b[36m-:--:--\u001b[0m\r\u001b[2K   \u001b[90m━━━━━━━━━━━━━━━━━━━━━━━━━━━━━━━━━━━━━━━━\u001b[0m \u001b[32m67.2/67.2 kB\u001b[0m \u001b[31m3.6 MB/s\u001b[0m eta \u001b[36m0:00:00\u001b[0m\n",
            "\u001b[?25hInstalling collected packages: paho-mqtt\n",
            "Successfully installed paho-mqtt-2.1.0\n"
          ]
        }
      ],
      "source": [
        "pip install paho-mqtt"
      ]
    }
  ],
  "metadata": {
    "colab": {
      "provenance": [],
      "include_colab_link": true
    },
    "kernelspec": {
      "display_name": "Python 3",
      "name": "python3"
    },
    "language_info": {
      "name": "python"
    }
  },
  "nbformat": 4,
  "nbformat_minor": 0
}